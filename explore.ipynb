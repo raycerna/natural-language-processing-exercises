{
 "cells": [
  {
   "cell_type": "markdown",
   "id": "f192bc3e",
   "metadata": {},
   "source": [
    "### Exercises\n",
    "Do your work for this exercise in a file named explore.\n",
    "\n",
    "1. Spam Data\n",
    "\n",
    "> a. Load the spam data set.\n",
    "\n",
    "> b. Create and explore bigrams for the spam data. Visualize them with a word cloud. How do they compare with the ham bigrams?\n",
    "\n",
    "> c. Is there any overlap in the bigrams for the spam data and the ham data?\n",
    "\n",
    "> d. Create and explore with trigrams (i.e. a n-gram with an n of 3) for both the spam and ham data.\n",
    "\n",
    "2. Explore the blog articles using the techniques discussed in the exploration lesson.\n",
    "\n",
    "\n",
    "3. Explore the news articles using the techniques discussed in the exploration lesson. Use the category variable when exploring."
   ]
  },
  {
   "cell_type": "code",
   "execution_count": 1,
   "id": "7148c4e8",
   "metadata": {},
   "outputs": [],
   "source": [
    "import pandas as pd"
   ]
  },
  {
   "cell_type": "code",
   "execution_count": 2,
   "id": "f986b223",
   "metadata": {},
   "outputs": [
    {
     "name": "stderr",
     "output_type": "stream",
     "text": [
      "<frozen importlib._bootstrap>:228: RuntimeWarning: scipy._lib.messagestream.MessageStream size changed, may indicate binary incompatibility. Expected 56 from C header, got 64 from PyObject\n"
     ]
    }
   ],
   "source": [
    "from prepare import basic_clean, lemmatize, remove_stopwords"
   ]
  },
  {
   "cell_type": "code",
   "execution_count": 3,
   "id": "79d00f4e",
   "metadata": {},
   "outputs": [],
   "source": [
    "# read in from local\n",
    "#acquire data from spam_db\n",
    "\n",
    "from env import user, password, host\n",
    "\n",
    "def get_db_url(database, host=host, user=user, password=password):\n",
    "    return f'mysql+pymysql://{user}:{password}@{host}/{database}'\n",
    "\n",
    "\n",
    "url = get_db_url(\"spam_db\")\n",
    "sql = \"SELECT * FROM spam\"\n",
    "\n",
    "df = pd.read_sql(sql, url, index_col=\"id\")"
   ]
  },
  {
   "cell_type": "code",
   "execution_count": 4,
   "id": "dd699bc3",
   "metadata": {},
   "outputs": [
    {
     "data": {
      "text/plain": [
       "(5572, 2)"
      ]
     },
     "execution_count": 4,
     "metadata": {},
     "output_type": "execute_result"
    }
   ],
   "source": [
    "# shape check\n",
    "df.shape"
   ]
  },
  {
   "cell_type": "code",
   "execution_count": 5,
   "id": "83269685",
   "metadata": {},
   "outputs": [
    {
     "data": {
      "text/plain": [
       "ham     4825\n",
       "spam     747\n",
       "Name: label, dtype: int64"
      ]
     },
     "execution_count": 5,
     "metadata": {},
     "output_type": "execute_result"
    }
   ],
   "source": [
    "# initial value counts\n",
    "df.label.value_counts()"
   ]
  },
  {
   "cell_type": "code",
   "execution_count": 6,
   "id": "e4a42e53",
   "metadata": {},
   "outputs": [
    {
     "data": {
      "text/plain": [
       "'time data exploration'"
      ]
     },
     "execution_count": 6,
     "metadata": {},
     "output_type": "execute_result"
    }
   ],
   "source": [
    "def clean(text):\n",
    "    return remove_stopwords(lemmatize(basic_clean(text)))\n",
    "\n",
    "clean('time for data exploration')"
   ]
  },
  {
   "cell_type": "code",
   "execution_count": 7,
   "id": "851efcda",
   "metadata": {},
   "outputs": [],
   "source": [
    "df.text = df.text.apply(clean)"
   ]
  },
  {
   "cell_type": "code",
   "execution_count": 8,
   "id": "cd36c8f6",
   "metadata": {},
   "outputs": [
    {
     "data": {
      "text/plain": [
       "id\n",
       "0    go jurong point crazy available bugis n great ...\n",
       "1                              ok lar joking wif u oni\n",
       "2    free entry 2 wkly comp win fa cup final tkts 2...\n",
       "3                  u dun say early hor u c already say\n",
       "4             nah dont think go usf life around though\n",
       "Name: text, dtype: object"
      ]
     },
     "execution_count": 8,
     "metadata": {},
     "output_type": "execute_result"
    }
   ],
   "source": [
    "df.text.head()"
   ]
  },
  {
   "cell_type": "code",
   "execution_count": null,
   "id": "fdb81ddd",
   "metadata": {},
   "outputs": [],
   "source": []
  }
 ],
 "metadata": {
  "kernelspec": {
   "display_name": "Python 3 (ipykernel)",
   "language": "python",
   "name": "python3"
  },
  "language_info": {
   "codemirror_mode": {
    "name": "ipython",
    "version": 3
   },
   "file_extension": ".py",
   "mimetype": "text/x-python",
   "name": "python",
   "nbconvert_exporter": "python",
   "pygments_lexer": "ipython3",
   "version": "3.9.7"
  }
 },
 "nbformat": 4,
 "nbformat_minor": 5
}
