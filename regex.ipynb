{
 "cells": [
  {
   "cell_type": "code",
   "execution_count": 1,
   "id": "a122ae56",
   "metadata": {},
   "outputs": [],
   "source": [
    "import re\n",
    "import pandas as pd\n",
    "import warnings\n",
    "warnings.filterwarnings(\"ignore\")"
   ]
  },
  {
   "cell_type": "markdown",
   "id": "d22a91d2",
   "metadata": {},
   "source": [
    "1. Write a function named is_vowel. It should accept a string as input and use a regular expression to determine if the passed string is a vowel. While not explicity mentioned in the lesson, you can treat the result of re.search as a boolean value that indicates whether or not the regular expression matches the given string.\n",
    "\n",
    "2. Write a function named is_valid_username that accepts a string as input. A valid username starts with a lowercase letter, and only consists of lowercase letters, numbers, or the _ character. It should also be no longer than 32 characters. The function should return either True or False depending on whether the passed string is a valid username.\n",
    ">- is_valid_username('aaaaaaaaaaaaaaaaaaaaaaaaaaaaaaaaa')\n",
    ">- False\n",
    ">- is_valid_username('codeup')\n",
    ">- True\n",
    ">- is_valid_username('Codeup')\n",
    ">- False\n",
    ">- is_valid_username('codeup123')\n",
    ">- True\n",
    ">- is_valid_username('1codeup')\n",
    ">-False\n",
    "\n",
    "\n",
    "3. Write a regular expression to capture phone numbers. It should match all of the following:\n",
    ">- (210) 867 5309\n",
    ">- +1 210.867.5309\n",
    ">- 867-5309\n",
    ">- 210-867-5309\n",
    "\n",
    "4. Use regular expressions to convert the dates below to the standardized year-month-day format.\n",
    ">- 02/04/19\n",
    ">- 02/05/19\n",
    ">- 02/06/19\n",
    ">- 02/07/19\n",
    ">- 02/08/19\n",
    ">- 02/09/19\n",
    ">- 02/10/19\n",
    "\n",
    "5. Write a regex to extract the various parts of these logfile lines:\n",
    ">- GET /api/v1/sales?page=86 [16/Apr/2019:193452+0000] HTTP/1.1 {200} 510348 \"python-requests/2.21.0\" 97.105.19.58\n",
    ">- POST /users_accounts/file-upload [16/Apr/2019:193452+0000] HTTP/1.1 {201} 42 \"User-Agent: Mozilla/5.0 (X11; Fedora; Fedora; Linux x86_64) AppleWebKit/537.36 (KHTML, like Gecko) Chrome/73.0.3683.86 Safari/537.36\" 97.105.19.58\n",
    ">- GET /api/v1/items?page=3 [16/Apr/2019:193453+0000] HTTP/1.1 {429} 3561 \"python-requests/2.21.0\" 97.105.19.58\n",
    "\n",
    "\n",
    "### Bonus Exercise\n",
    "\n",
    "- You can find a list of words on your mac at /usr/share/dict/words. Use this file to answer the following questions:\n",
    "> - How many words have at least 3 vowels?\n",
    "> - How many words have at least 3 vowels in a row?\n",
    "> - How many words have at least 4 consonants in a row?\n",
    "> - How many words start and end with the same letter?\n",
    "> - How many words start and end with a vowel?\n",
    "> - How many words contain the same letter 3 times in a row?\n",
    "> - What other interesting patterns in words can you find?"
   ]
  },
  {
   "cell_type": "code",
   "execution_count": 2,
   "id": "ba7360e9",
   "metadata": {},
   "outputs": [],
   "source": [
    "# Exercise 1\n",
    "\n",
    "def is_vowel(string):\n",
    "    \"\"\" return if the input is a single vowel character\"\"\"\n",
    "    \n",
    "    # Starts with a character from this character class\n",
    "    # Ends with a character from this character class\n",
    "    regex = r'^[aeiouAEIOU]$'\n",
    "    return bool(re.search(regex, string))\n",
    "\n",
    "assert is_vowel(\"A\") == True\n",
    "assert is_vowel(\"e\") == True\n",
    "assert is_vowel(\"b\") == False\n",
    "assert is_vowel(\"ee\") == False\n",
    "assert is_vowel(\"aie\") == False"
   ]
  },
  {
   "cell_type": "code",
   "execution_count": 6,
   "id": "fba35194",
   "metadata": {},
   "outputs": [],
   "source": [
    "# Exercise 1 w/ only Python\n",
    "def is_vowel2(string):\n",
    "    string = string.lower()\n",
    "    return string in [\"a\", \"e\", \"i\", \"o\", \"u\"]\n",
    "\n",
    "assert is_vowel2(\"A\") == True\n",
    "assert is_vowel2(\"e\") == True\n",
    "assert is_vowel2(\"b\") == False\n",
    "assert is_vowel2(\"ee\") == False\n",
    "assert is_vowel2(\"aie\") == False"
   ]
  },
  {
   "cell_type": "code",
   "execution_count": 8,
   "id": "a820fc92",
   "metadata": {},
   "outputs": [
    {
     "data": {
      "text/plain": [
       "True"
      ]
     },
     "execution_count": 8,
     "metadata": {},
     "output_type": "execute_result"
    }
   ],
   "source": [
    "is_vowel2('a')"
   ]
  },
  {
   "cell_type": "code",
   "execution_count": 4,
   "id": "77255670",
   "metadata": {},
   "outputs": [],
   "source": [
    "# Exercise 2\n",
    "# A valid username starts with a lowercase letter, \n",
    "# and only consists of lowercase letters, numbers, or the _ character. \n",
    "# It should also be no longer than 32 characters. \n",
    "# The function should return True or False\n",
    "\n",
    "def is_valid_username(string):\n",
    "    return bool(re.search(r'^[a-z][a-z0-9_]{,31}$', string))\n",
    "\n",
    "assert is_valid_username(\"aaaaaaaaaaaaaaaaaaaaaaaaaaaaaaaaa\") == False\n",
    "assert is_valid_username(\"codeup\") == True\n",
    "assert is_valid_username(\"Codeup\") == False\n",
    "assert is_valid_username(\"codeup123\") == True\n",
    "assert is_valid_username(\"1codeup\") == False"
   ]
  },
  {
   "cell_type": "code",
   "execution_count": 5,
   "id": "70dfd196",
   "metadata": {},
   "outputs": [
    {
     "data": {
      "text/plain": [
       "False"
      ]
     },
     "execution_count": 5,
     "metadata": {},
     "output_type": "execute_result"
    }
   ],
   "source": [
    "is_valid_username('1codeup')"
   ]
  },
  {
   "cell_type": "code",
   "execution_count": 9,
   "id": "9626a282",
   "metadata": {},
   "outputs": [],
   "source": [
    "# Exercise 2 solved by breaking the logic into little functions and using them together\n",
    "# My preference is to build tiny functions that do one thing and then string them together\n",
    "def starts_with_lowercase(string):\n",
    "    return bool(re.search(r'^[a-z]', string))\n",
    "\n",
    "def is_only_lowercase_alphanumeric_or_underscore(string):\n",
    "    # character class holds any a-z, 0-9, underscore\n",
    "    # match until the last character in this character class\n",
    "    return bool(re.search(r'[a-z0-9_]$', string))\n",
    "    \n",
    "def is_valid_username2(string):\n",
    "    return starts_with_lowercase(string) and is_only_lowercase_alphanumeric_or_underscore(string) and len(string) <= 32\n",
    "\n",
    "assert is_valid_username2(\"aaaaaaaaaaaaaaaaaaaaaaaaaaaaaaaaa\") == False\n",
    "assert is_valid_username2(\"codeup\") == True\n",
    "assert is_valid_username2(\"Codeup\") == False\n",
    "assert is_valid_username2(\"codeup123\") == True\n",
    "assert is_valid_username2(\"1codeup\") == False"
   ]
  },
  {
   "cell_type": "code",
   "execution_count": 10,
   "id": "92cf53bc",
   "metadata": {},
   "outputs": [
    {
     "data": {
      "text/html": [
       "<div>\n",
       "<style scoped>\n",
       "    .dataframe tbody tr th:only-of-type {\n",
       "        vertical-align: middle;\n",
       "    }\n",
       "\n",
       "    .dataframe tbody tr th {\n",
       "        vertical-align: top;\n",
       "    }\n",
       "\n",
       "    .dataframe thead th {\n",
       "        text-align: right;\n",
       "    }\n",
       "</style>\n",
       "<table border=\"1\" class=\"dataframe\">\n",
       "  <thead>\n",
       "    <tr style=\"text-align: right;\">\n",
       "      <th></th>\n",
       "      <th>country_code</th>\n",
       "      <th>area_code</th>\n",
       "      <th>exchange_code</th>\n",
       "      <th>line_number</th>\n",
       "    </tr>\n",
       "  </thead>\n",
       "  <tbody>\n",
       "    <tr>\n",
       "      <th>0</th>\n",
       "      <td>None</td>\n",
       "      <td>210</td>\n",
       "      <td>867</td>\n",
       "      <td>5309</td>\n",
       "    </tr>\n",
       "    <tr>\n",
       "      <th>1</th>\n",
       "      <td>+1</td>\n",
       "      <td>210</td>\n",
       "      <td>867</td>\n",
       "      <td>5309</td>\n",
       "    </tr>\n",
       "    <tr>\n",
       "      <th>2</th>\n",
       "      <td>None</td>\n",
       "      <td>None</td>\n",
       "      <td>867</td>\n",
       "      <td>5309</td>\n",
       "    </tr>\n",
       "    <tr>\n",
       "      <th>3</th>\n",
       "      <td>None</td>\n",
       "      <td>210</td>\n",
       "      <td>867</td>\n",
       "      <td>5309</td>\n",
       "    </tr>\n",
       "  </tbody>\n",
       "</table>\n",
       "</div>"
      ],
      "text/plain": [
       "  country_code area_code exchange_code line_number\n",
       "0         None       210           867        5309\n",
       "1           +1       210           867        5309\n",
       "2         None      None           867        5309\n",
       "3         None       210           867        5309"
      ]
     },
     "execution_count": 10,
     "metadata": {},
     "output_type": "execute_result"
    }
   ],
   "source": [
    "# Exercise 3\n",
    "\n",
    "# Write a regular expression to capture phone numbers. \n",
    "# It should match all of the following:\n",
    "# (210) 867 5309\n",
    "# +1 210.867.5309\n",
    "# 867-5309\n",
    "# 210-867-5309\n",
    "numbers = [\n",
    "    '(210) 867 5309',\n",
    "    '+1 210.867.5309',\n",
    "    '867-5309',\n",
    "    '210-867-5309',\n",
    "]\n",
    "\n",
    "# Parts of a phone number\n",
    "# Country Code +1, Area Code 210, Exchange Code 226, Line number 3232\n",
    "\n",
    "phone_number_re = re.compile(r'''\n",
    "^\n",
    "(?P<country_code>\\+\\d+)?\n",
    "\\D*?\n",
    "(?P<area_code>\\d{3})?\n",
    "\\D*?\n",
    "(?P<exchange_code>\\d{3})\n",
    "\\D*?\n",
    "(?P<line_number>\\d{4})\n",
    "\\D*\n",
    "$\n",
    "''', re.VERBOSE)\n",
    "\n",
    "# Iterate through the list of strings, producing a dictionary containing named groups from each string\n",
    "phone_numbers = [re.search(phone_number_re, number).groupdict() for number in numbers]\n",
    "phone_numbers\n",
    "\n",
    "# And what can you do once you have a list of dictionaries? That's right! Make a Dataframe!\n",
    "df = pd.DataFrame(phone_numbers)\n",
    "df"
   ]
  },
  {
   "cell_type": "code",
   "execution_count": 12,
   "id": "297ed4f7",
   "metadata": {},
   "outputs": [
    {
     "data": {
      "text/plain": [
       "{'country_code': None,\n",
       " 'area_code': '210',\n",
       " 'exchange_code': '867',\n",
       " 'line_number': '5309'}"
      ]
     },
     "execution_count": 12,
     "metadata": {},
     "output_type": "execute_result"
    }
   ],
   "source": [
    "re.search(phone_number_re, numbers[0]).groupdict()"
   ]
  },
  {
   "cell_type": "code",
   "execution_count": 13,
   "id": "495bb668",
   "metadata": {},
   "outputs": [
    {
     "data": {
      "text/plain": [
       "['2019-02-04',\n",
       " '2019-02-05',\n",
       " '2019-02-06',\n",
       " '2019-02-07',\n",
       " '2019-02-08',\n",
       " '2019-02-09',\n",
       " '2019-02-10']"
      ]
     },
     "execution_count": 13,
     "metadata": {},
     "output_type": "execute_result"
    }
   ],
   "source": [
    "# Exercise 4\n",
    "# Convert the dates below to the standardized year-month-day format.\n",
    "dates = [\n",
    "    '02/04/19',\n",
    "    '02/05/19',\n",
    "    '02/06/19',\n",
    "    '02/07/19',\n",
    "    '02/08/19',\n",
    "    '02/09/19',\n",
    "    '02/10/19',\n",
    "]\n",
    "\n",
    "dates = [re.sub(r'(\\d+)/(\\d+)/(\\d+)', r'20\\3-\\1-\\2', date) for date in dates]\n",
    "dates"
   ]
  },
  {
   "cell_type": "code",
   "execution_count": 14,
   "id": "518c2933",
   "metadata": {},
   "outputs": [
    {
     "data": {
      "text/plain": [
       "0    GET /api/v1/sales?page=86 [16/Apr/2019:193452+...\n",
       "1    POST /users_accounts/file-upload [16/Apr/2019:...\n",
       "2    GET /api/v1/items?page=3 [16/Apr/2019:193453+0...\n",
       "dtype: object"
      ]
     },
     "execution_count": 14,
     "metadata": {},
     "output_type": "execute_result"
    }
   ],
   "source": [
    "# Exercise 5\n",
    "\n",
    "# GET /api/v1/sales?page=86 [16/Apr/2019:193452+0000] HTTP/1.1 {200} 510348 \"python-requests/2.21.0\" 97.105.19.58\n",
    "# POST /users_accounts/file-upload [16/Apr/2019:193452+0000] HTTP/1.1 {201} 42 \"User-Agent: Mozilla/5.0 (X11; Fedora; Fedora; Linux x86_64) AppleWebKit/537.36 (KHTML, like Gecko) Chrome/73.0.3683.86 Safari/537.36\" 97.105.19.58\n",
    "# GET /api/v1/items?page=3 [16/Apr/2019:193453+0000] HTTP/1.1 {429} 3561 \"python-requests/2.21.0\" 97.105.19.58\n",
    "\n",
    "string = \"\"\"\n",
    "GET /api/v1/sales?page=86 [16/Apr/2019:193452+0000] HTTP/1.1 {200} 510348 \"python-requests/2.21.0\" 97.105.19.58\n",
    "POST /users_accounts/file-upload [16/Apr/2019:193452+0000] HTTP/1.1 {201} 42 \"User-Agent: Mozilla/5.0 (X11; Fedora; Fedora; Linux x86_64) AppleWebKit/537.36 (KHTML, like Gecko) Chrome/73.0.3683.86 Safari/537.36\" 97.105.19.58\n",
    "GET /api/v1/items?page=3 [16/Apr/2019:193453+0000] HTTP/1.1 {429} 3561 \"python-requests/2.21.0\" 97.105.19.58\n",
    "\"\"\"\n",
    "\n",
    "# method, endpoint, date, protocol, http_status_code, some_number, \"user_agent\", ip_address\n",
    "\n",
    "regex = r'''\n",
    "(?P<method>[A-Z]+)\n",
    "\\s\n",
    "(?P<path>.*)\n",
    "\\s\n",
    "\\[(?P<timestamp>.*)\\]\n",
    "\\s\n",
    "HTTP/1.1\n",
    "\\s\n",
    "{(?P<status>\\d+)}\n",
    "\\s\n",
    "(?P<bytes_sent>\\d+)\n",
    "\\s\n",
    "\"(?P<user_agent>.*)\"\n",
    "\\s+\n",
    "(?P<ip>\\d{1,3}\\.\\d{1,3}\\.\\d{1,3}\\.\\d{1,3})\n",
    "'''\n",
    "\n",
    "regex = re.compile(regex, re.VERBOSE)\n",
    "\n",
    "# Lines is a pandas series\n",
    "lines = pd.Series(string.strip().split('\\n'))\n",
    "lines"
   ]
  },
  {
   "cell_type": "code",
   "execution_count": 15,
   "id": "58bb3729",
   "metadata": {},
   "outputs": [
    {
     "data": {
      "text/html": [
       "<div>\n",
       "<style scoped>\n",
       "    .dataframe tbody tr th:only-of-type {\n",
       "        vertical-align: middle;\n",
       "    }\n",
       "\n",
       "    .dataframe tbody tr th {\n",
       "        vertical-align: top;\n",
       "    }\n",
       "\n",
       "    .dataframe thead th {\n",
       "        text-align: right;\n",
       "    }\n",
       "</style>\n",
       "<table border=\"1\" class=\"dataframe\">\n",
       "  <thead>\n",
       "    <tr style=\"text-align: right;\">\n",
       "      <th></th>\n",
       "      <th>method</th>\n",
       "      <th>path</th>\n",
       "      <th>timestamp</th>\n",
       "      <th>status</th>\n",
       "      <th>bytes_sent</th>\n",
       "      <th>user_agent</th>\n",
       "      <th>ip</th>\n",
       "    </tr>\n",
       "  </thead>\n",
       "  <tbody>\n",
       "    <tr>\n",
       "      <th>0</th>\n",
       "      <td>GET</td>\n",
       "      <td>/api/v1/sales?page=86</td>\n",
       "      <td>16/Apr/2019:193452+0000</td>\n",
       "      <td>200</td>\n",
       "      <td>510348</td>\n",
       "      <td>python-requests/2.21.0</td>\n",
       "      <td>97.105.19.58</td>\n",
       "    </tr>\n",
       "    <tr>\n",
       "      <th>1</th>\n",
       "      <td>POST</td>\n",
       "      <td>/users_accounts/file-upload</td>\n",
       "      <td>16/Apr/2019:193452+0000</td>\n",
       "      <td>201</td>\n",
       "      <td>42</td>\n",
       "      <td>User-Agent: Mozilla/5.0 (X11; Fedora; Fedora; ...</td>\n",
       "      <td>97.105.19.58</td>\n",
       "    </tr>\n",
       "    <tr>\n",
       "      <th>2</th>\n",
       "      <td>GET</td>\n",
       "      <td>/api/v1/items?page=3</td>\n",
       "      <td>16/Apr/2019:193453+0000</td>\n",
       "      <td>429</td>\n",
       "      <td>3561</td>\n",
       "      <td>python-requests/2.21.0</td>\n",
       "      <td>97.105.19.58</td>\n",
       "    </tr>\n",
       "  </tbody>\n",
       "</table>\n",
       "</div>"
      ],
      "text/plain": [
       "  method                         path                timestamp status  \\\n",
       "0    GET        /api/v1/sales?page=86  16/Apr/2019:193452+0000    200   \n",
       "1   POST  /users_accounts/file-upload  16/Apr/2019:193452+0000    201   \n",
       "2    GET         /api/v1/items?page=3  16/Apr/2019:193453+0000    429   \n",
       "\n",
       "  bytes_sent                                         user_agent            ip  \n",
       "0     510348                             python-requests/2.21.0  97.105.19.58  \n",
       "1         42  User-Agent: Mozilla/5.0 (X11; Fedora; Fedora; ...  97.105.19.58  \n",
       "2       3561                             python-requests/2.21.0  97.105.19.58  "
      ]
     },
     "execution_count": 15,
     "metadata": {},
     "output_type": "execute_result"
    }
   ],
   "source": [
    "df = lines.str.extract(regex)\n",
    "df"
   ]
  },
  {
   "cell_type": "code",
   "execution_count": 16,
   "id": "af21e99b",
   "metadata": {},
   "outputs": [
    {
     "data": {
      "text/plain": [
       "0                  a\n",
       "1                  a\n",
       "2                 aa\n",
       "3                aal\n",
       "4              aalii\n",
       "             ...    \n",
       "235881        zythem\n",
       "235882        zythia\n",
       "235883        zythum\n",
       "235884       zyzomys\n",
       "235885    zyzzogeton\n",
       "Name: 0, Length: 235884, dtype: object"
      ]
     },
     "execution_count": 16,
     "metadata": {},
     "output_type": "execute_result"
    }
   ],
   "source": [
    "# Bonus\n",
    "\n",
    "# Find a list of words on your mac at /usr/share/dict/words. \n",
    "\n",
    "# Use this file to answer the following questions:\n",
    "# How many words have at least 3 vowels?\n",
    "# How many words have at least 3 vowels in a row?\n",
    "# How many words have at least 4 consonants in a row?\n",
    "# How many words start and end with the same letter?\n",
    "# How many words start and end with a vowel?\n",
    "# How many words contain the same letter 3 times in a row?\n",
    "# What other interesting patterns in words can you find?\n",
    "\n",
    "# Wrangle\n",
    "df = pd.read_csv('/usr/share/dict/words', header=None).dropna()\n",
    "words = df[0]\n",
    "words = words.str.lower()\n",
    "words"
   ]
  },
  {
   "cell_type": "code",
   "execution_count": 17,
   "id": "d6565cf2",
   "metadata": {},
   "outputs": [
    {
     "data": {
      "text/plain": [
       "191365"
      ]
     },
     "execution_count": 17,
     "metadata": {},
     "output_type": "execute_result"
    }
   ],
   "source": [
    "# How many words have at least 3 vowels?\n",
    "at_least_3_vowels = (words.str.count(r\"[aeiou]\")  >= 3)\n",
    "words[at_least_3_vowels].head()\n",
    "at_least_3_vowels.sum()"
   ]
  },
  {
   "cell_type": "code",
   "execution_count": 18,
   "id": "17f46226",
   "metadata": {},
   "outputs": [
    {
     "data": {
      "text/plain": [
       "6251"
      ]
     },
     "execution_count": 18,
     "metadata": {},
     "output_type": "execute_result"
    }
   ],
   "source": [
    "# How many words have at least 3 vowels in a row?\n",
    "words.str.count(r\"[aeiou]{3}\").sum()"
   ]
  },
  {
   "cell_type": "code",
   "execution_count": 19,
   "id": "c1cf22b2",
   "metadata": {},
   "outputs": [
    {
     "data": {
      "text/plain": [
       "19640"
      ]
     },
     "execution_count": 19,
     "metadata": {},
     "output_type": "execute_result"
    }
   ],
   "source": [
    "# How many words have at least 4 consonants in a row?\n",
    "# ^ inside of a character class []\n",
    "# Match pattern not a or e o i or o or u\n",
    "words.str.count(r\"[^aeiou]{4}\").sum()"
   ]
  },
  {
   "cell_type": "code",
   "execution_count": 21,
   "id": "44c50848",
   "metadata": {},
   "outputs": [
    {
     "data": {
      "text/plain": [
       "57         abarthrosis\n",
       "529             absmho\n",
       "594           abstract\n",
       "595         abstracted\n",
       "596       abstractedly\n",
       "              ...     \n",
       "235106       zechstein\n",
       "235132      zemstroist\n",
       "235133         zemstvo\n",
       "235361      zoanthropy\n",
       "235413       zollpfund\n",
       "Name: 0, Length: 5095, dtype: object"
      ]
     },
     "execution_count": 21,
     "metadata": {},
     "output_type": "execute_result"
    }
   ],
   "source": [
    "# Words with at least 4 consonants in a row\n",
    "words[words.str.contains(r\"[^aeiouy]{4}\")]"
   ]
  },
  {
   "cell_type": "code",
   "execution_count": 22,
   "id": "97d1f330",
   "metadata": {},
   "outputs": [
    {
     "data": {
      "text/plain": [
       "11452"
      ]
     },
     "execution_count": 22,
     "metadata": {},
     "output_type": "execute_result"
    }
   ],
   "source": [
    "# How many words start and end with the same letter?\n",
    "# (.) is capture group 1\n",
    "# ^(.) starts with any character\n",
    "# .* mean any character repeated 0 or more times\n",
    "# \\1$ means ends with whatever the first capture group matched\n",
    "words.str.contains(r'^(.).*\\1$').sum()"
   ]
  },
  {
   "cell_type": "code",
   "execution_count": 23,
   "id": "9fb74377",
   "metadata": {},
   "outputs": [
    {
     "data": {
      "text/plain": [
       "14657"
      ]
     },
     "execution_count": 23,
     "metadata": {},
     "output_type": "execute_result"
    }
   ],
   "source": [
    "# How many words start and end with a vowel?\n",
    "words.str.contains(r'^[aeiou].*[aeiou]$').sum()"
   ]
  },
  {
   "cell_type": "code",
   "execution_count": 24,
   "id": "7c24f0d9",
   "metadata": {},
   "outputs": [
    {
     "data": {
      "text/plain": [
       "24988             bossship\n",
       "50636      demigoddessship\n",
       "78498          goddessship\n",
       "82997     headmistressship\n",
       "140481       patronessship\n",
       "230262            wallless\n",
       "231688           whenceeer\n",
       "Name: 0, dtype: object"
      ]
     },
     "execution_count": 24,
     "metadata": {},
     "output_type": "execute_result"
    }
   ],
   "source": [
    "# How many words contain the same letter 3 times in a row?\n",
    "words[words.str.contains(r'(.)\\1\\1')]"
   ]
  },
  {
   "cell_type": "code",
   "execution_count": 32,
   "id": "9a7829e8",
   "metadata": {},
   "outputs": [
    {
     "data": {
      "text/plain": [
       "3495          affray\n",
       "3496        affrayer\n",
       "6787          amiray\n",
       "13467          array\n",
       "13468        arrayal\n",
       "             ...    \n",
       "223263     unsprayed\n",
       "223479    unstraying\n",
       "225214        upbray\n",
       "230670      washtray\n",
       "234413         yaray\n",
       "Name: 0, Length: 195, dtype: object"
      ]
     },
     "execution_count": 32,
     "metadata": {},
     "output_type": "execute_result"
    }
   ],
   "source": [
    "# What other interesting patterns in words can you find?\n",
    "# words with my name\n",
    "words[words.str.contains(r\"ray\")]"
   ]
  },
  {
   "cell_type": "code",
   "execution_count": null,
   "id": "19966679",
   "metadata": {},
   "outputs": [],
   "source": []
  }
 ],
 "metadata": {
  "kernelspec": {
   "display_name": "Python 3 (ipykernel)",
   "language": "python",
   "name": "python3"
  },
  "language_info": {
   "codemirror_mode": {
    "name": "ipython",
    "version": 3
   },
   "file_extension": ".py",
   "mimetype": "text/x-python",
   "name": "python",
   "nbconvert_exporter": "python",
   "pygments_lexer": "ipython3",
   "version": "3.9.7"
  }
 },
 "nbformat": 4,
 "nbformat_minor": 5
}
