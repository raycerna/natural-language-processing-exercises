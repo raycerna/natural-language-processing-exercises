{
 "cells": [
  {
   "cell_type": "code",
   "execution_count": 1,
   "id": "e74a76bf",
   "metadata": {},
   "outputs": [],
   "source": [
    "import pandas as pd\n",
    "import numpy as np\n",
    "\n",
    "from requests import get\n",
    "import re\n",
    "from bs4 import BeautifulSoup\n",
    "import os"
   ]
  },
  {
   "cell_type": "code",
   "execution_count": 2,
   "id": "d86a24da",
   "metadata": {},
   "outputs": [
    {
     "data": {
      "text/plain": [
       "True"
      ]
     },
     "execution_count": 2,
     "metadata": {},
     "output_type": "execute_result"
    }
   ],
   "source": [
    "url = \"http://codeup.com/blog\"\n",
    "headers = {'User-Agent': 'Codeup Data Science'}\n",
    "response = get(url, headers=headers)\n",
    "response.ok"
   ]
  },
  {
   "cell_type": "code",
   "execution_count": 3,
   "id": "329a190a",
   "metadata": {},
   "outputs": [
    {
     "name": "stdout",
     "output_type": "stream",
     "text": [
      "<class 'str'>\n"
     ]
    }
   ],
   "source": [
    "print(type(response.text))"
   ]
  },
  {
   "cell_type": "code",
   "execution_count": 4,
   "id": "1bd6cf8d",
   "metadata": {},
   "outputs": [
    {
     "name": "stdout",
     "output_type": "stream",
     "text": [
      "<class 'bs4.BeautifulSoup'>\n"
     ]
    }
   ],
   "source": [
    "# Use BeautifulSoup using our response string\n",
    "\n",
    "soup = BeautifulSoup(response.text, 'html.parser')\n",
    "\n",
    "# Now we have our BeautifulSoup object, we can use its built-in methods and properties\n",
    "\n",
    "print(type(soup))"
   ]
  },
  {
   "cell_type": "code",
   "execution_count": 5,
   "id": "3149127b",
   "metadata": {},
   "outputs": [
    {
     "data": {
      "text/plain": [
       "<h1>Codeup News &amp; Articles</h1>"
      ]
     },
     "execution_count": 5,
     "metadata": {},
     "output_type": "execute_result"
    }
   ],
   "source": [
    "soup.find('h1')"
   ]
  },
  {
   "cell_type": "code",
   "execution_count": 7,
   "id": "296a8c21",
   "metadata": {},
   "outputs": [
    {
     "data": {
      "text/plain": [
       "[<a class=\"more-link\" href=\"https://codeup.com/workshops/in-person-workshop-learn-to-code-python-on-7-19/\">read more</a>,\n",
       " <a class=\"more-link\" href=\"https://codeup.com/workshops/dallas/free-javascript-workshop-at-codeup-dallas-on-6-28/\">read more</a>,\n",
       " <a class=\"more-link\" href=\"https://codeup.com/tips-for-prospective-students/is-our-cloud-administration-program-right-for-you/\">read more</a>,\n",
       " <a class=\"more-link\" href=\"https://codeup.com/workshops/pride-in-tech-panel/\">read more</a>,\n",
       " <a class=\"more-link\" href=\"https://codeup.com/codeup-news/inclusion-at-codeup-during-pride-month-and-always/\">read more</a>,\n",
       " <a class=\"more-link\" href=\"https://codeup.com/tips-for-prospective-students/mental-health-first-aid-training/\">read more</a>,\n",
       " <a class=\"more-link\" href=\"https://codeup.com/workshops/codeup-dallas-how-to-succeed-at-a-coding-bootcamp-on-june-9th/\">read more</a>,\n",
       " <a class=\"more-link\" href=\"https://codeup.com/featured/5-reasons-to-attend-our-new-cloud-administration-program/\">read more</a>,\n",
       " <a class=\"more-link\" href=\"https://codeup.com/workshops/learn-to-code-python-on-5-21/\">read more</a>,\n",
       " <a class=\"more-link\" href=\"https://codeup.com/dallas-newsletter/codeup-dallas-joins-career-day/\">read more</a>,\n",
       " <a class=\"more-link\" href=\"https://codeup.com/workshops/project-quest-info-session-may-24th/\">read more</a>,\n",
       " <a class=\"more-link\" href=\"https://codeup.com/workshops/from-bootcamp-to-bootcamp-a-military-appreciation-panel/\">read more</a>,\n",
       " <a class=\"more-link\" href=\"https://codeup.com/featured/our-acquisition-of-the-rackspace-cloud-academy-one-year-later/\">read more</a>,\n",
       " <a class=\"more-link\" href=\"https://codeup.com/workshops/virtual/learn-to-code-html-css-on-4-30/\">read more</a>,\n",
       " <a class=\"more-link\" href=\"https://codeup.com/workshops/virtual/learn-to-code-python-workshop-on-4-16/\">read more</a>]"
      ]
     },
     "execution_count": 7,
     "metadata": {},
     "output_type": "execute_result"
    }
   ],
   "source": [
    "soup.select('.more-link')"
   ]
  },
  {
   "cell_type": "code",
   "execution_count": 8,
   "id": "1b4d76af",
   "metadata": {},
   "outputs": [
    {
     "data": {
      "text/plain": [
       "[<a href=\"https://codeup.com/featured/what-jobs-can-you-get-after-a-coding-bootcamp-part-2-cloud-administration/\">What Jobs Can You Get After a Coding Bootcamp? Part 2: Cloud Administration</a>,\n",
       " <a href=\"https://codeup.com/data-science/jobs-after-a-coding-bootcamp-part-1-data-science/\">What Jobs Can You Get After a Coding Bootcamp? Part 1: Data Science</a>,\n",
       " <a href=\"https://codeup.com/tips-for-prospective-students/is-our-cloud-administration-program-right-for-you/\">Is Our Cloud Administration Program Right for You?</a>,\n",
       " <a href=\"https://codeup.com/featured/5-reasons-to-attend-our-new-cloud-administration-program/\">5 Reasons To Attend Our New Cloud Administration Program</a>,\n",
       " <a href=\"https://codeup.com/featured/what-jobs-can-you-get-after-a-coding-bootcamp-part-2-cloud-administration/\">What Jobs Can You Get After a Coding Bootcamp? Part 2: Cloud Administration</a>,\n",
       " <a href=\"https://codeup.com/data-science/jobs-after-a-coding-bootcamp-part-1-data-science/\">What Jobs Can You Get After a Coding Bootcamp? Part 1: Data Science</a>,\n",
       " <a href=\"https://codeup.com/workshops/san-antonio/in-person-workshop-learn-to-code-javascript-on-7-26/\">In-Person Workshop: Learn to Code – JavaScript on 7/26</a>,\n",
       " <a href=\"https://codeup.com/workshops/in-person-workshop-learn-to-code-python-on-7-19/\">In-Person Workshop: Learn to Code – Python on 7/19</a>,\n",
       " <a href=\"https://codeup.com/workshops/dallas/free-javascript-workshop-at-codeup-dallas-on-6-28/\">Free JavaScript Workshop at Codeup Dallas on 6/28</a>,\n",
       " <a href=\"https://codeup.com/tips-for-prospective-students/is-our-cloud-administration-program-right-for-you/\">Is Our Cloud Administration Program Right for You?</a>,\n",
       " <a href=\"https://codeup.com/workshops/pride-in-tech-panel/\">PRIDE in Tech Panel</a>,\n",
       " <a href=\"https://codeup.com/codeup-news/inclusion-at-codeup-during-pride-month-and-always/\">Inclusion at Codeup During Pride Month (and Always)</a>,\n",
       " <a href=\"https://codeup.com/tips-for-prospective-students/mental-health-first-aid-training/\">Mental Health First Aid Training</a>,\n",
       " <a href=\"https://codeup.com/workshops/codeup-dallas-how-to-succeed-at-a-coding-bootcamp-on-june-9th/\">Codeup Dallas: How to Succeed at a Coding Bootcamp on June 9th</a>,\n",
       " <a href=\"https://codeup.com/featured/5-reasons-to-attend-our-new-cloud-administration-program/\">5 Reasons To Attend Our New Cloud Administration Program</a>,\n",
       " <a href=\"https://codeup.com/workshops/learn-to-code-python-on-5-21/\">Learn to Code: Python on 5/21</a>,\n",
       " <a href=\"https://codeup.com/dallas-newsletter/codeup-dallas-joins-career-day/\">Codeup Dallas Joins Career Day</a>,\n",
       " <a href=\"https://codeup.com/workshops/project-quest-info-session-may-24th/\">Project Quest Info Session: IT Jumpstart on May 24th</a>,\n",
       " <a href=\"https://codeup.com/workshops/from-bootcamp-to-bootcamp-a-military-appreciation-panel/\">From Bootcamp to Bootcamp | A Military Appreciation Panel</a>,\n",
       " <a href=\"https://codeup.com/featured/our-acquisition-of-the-rackspace-cloud-academy-one-year-later/\">Our Acquisition of the Rackspace Cloud Academy: One Year Later</a>,\n",
       " <a href=\"https://codeup.com/workshops/virtual/learn-to-code-html-css-on-4-30/\">Learn to Code: HTML &amp; CSS on 4/30</a>,\n",
       " <a href=\"https://codeup.com/workshops/virtual/learn-to-code-python-workshop-on-4-16/\">Learn to Code: Python Workshop on 4/23</a>]"
      ]
     },
     "execution_count": 8,
     "metadata": {},
     "output_type": "execute_result"
    }
   ],
   "source": [
    "soup.select('h2 a[href]')"
   ]
  },
  {
   "cell_type": "code",
   "execution_count": 9,
   "id": "ff82309e",
   "metadata": {},
   "outputs": [
    {
     "data": {
      "text/plain": [
       "<a href=\"https://codeup.com/featured/what-jobs-can-you-get-after-a-coding-bootcamp-part-2-cloud-administration/\">What Jobs Can You Get After a Coding Bootcamp? Part 2: Cloud Administration</a>"
      ]
     },
     "execution_count": 9,
     "metadata": {},
     "output_type": "execute_result"
    }
   ],
   "source": [
    "soup.select('h2 a[href]')[0]"
   ]
  },
  {
   "cell_type": "code",
   "execution_count": 10,
   "id": "1b028a8b",
   "metadata": {},
   "outputs": [
    {
     "data": {
      "text/plain": [
       "'https://codeup.com/featured/what-jobs-can-you-get-after-a-coding-bootcamp-part-2-cloud-administration/'"
      ]
     },
     "execution_count": 10,
     "metadata": {},
     "output_type": "execute_result"
    }
   ],
   "source": [
    "soup.select('h2 a[href]')[0]['href']"
   ]
  },
  {
   "cell_type": "code",
   "execution_count": 11,
   "id": "7b83fa67",
   "metadata": {},
   "outputs": [
    {
     "data": {
      "text/plain": [
       "[1, 2, 3, 4, 5, 6, 7, 8, 9, 10]"
      ]
     },
     "execution_count": 11,
     "metadata": {},
     "output_type": "execute_result"
    }
   ],
   "source": [
    "[n for n in range(1, 11)]"
   ]
  },
  {
   "cell_type": "code",
   "execution_count": 12,
   "id": "64aea43e",
   "metadata": {},
   "outputs": [
    {
     "data": {
      "text/plain": [
       "['https://codeup.com/featured/what-jobs-can-you-get-after-a-coding-bootcamp-part-2-cloud-administration/',\n",
       " 'https://codeup.com/data-science/jobs-after-a-coding-bootcamp-part-1-data-science/',\n",
       " 'https://codeup.com/tips-for-prospective-students/is-our-cloud-administration-program-right-for-you/',\n",
       " 'https://codeup.com/featured/5-reasons-to-attend-our-new-cloud-administration-program/',\n",
       " 'https://codeup.com/featured/what-jobs-can-you-get-after-a-coding-bootcamp-part-2-cloud-administration/',\n",
       " 'https://codeup.com/data-science/jobs-after-a-coding-bootcamp-part-1-data-science/',\n",
       " 'https://codeup.com/workshops/san-antonio/in-person-workshop-learn-to-code-javascript-on-7-26/',\n",
       " 'https://codeup.com/workshops/in-person-workshop-learn-to-code-python-on-7-19/',\n",
       " 'https://codeup.com/workshops/dallas/free-javascript-workshop-at-codeup-dallas-on-6-28/',\n",
       " 'https://codeup.com/tips-for-prospective-students/is-our-cloud-administration-program-right-for-you/',\n",
       " 'https://codeup.com/workshops/pride-in-tech-panel/',\n",
       " 'https://codeup.com/codeup-news/inclusion-at-codeup-during-pride-month-and-always/',\n",
       " 'https://codeup.com/tips-for-prospective-students/mental-health-first-aid-training/',\n",
       " 'https://codeup.com/workshops/codeup-dallas-how-to-succeed-at-a-coding-bootcamp-on-june-9th/',\n",
       " 'https://codeup.com/featured/5-reasons-to-attend-our-new-cloud-administration-program/',\n",
       " 'https://codeup.com/workshops/learn-to-code-python-on-5-21/',\n",
       " 'https://codeup.com/dallas-newsletter/codeup-dallas-joins-career-day/',\n",
       " 'https://codeup.com/workshops/project-quest-info-session-may-24th/',\n",
       " 'https://codeup.com/workshops/from-bootcamp-to-bootcamp-a-military-appreciation-panel/',\n",
       " 'https://codeup.com/featured/our-acquisition-of-the-rackspace-cloud-academy-one-year-later/',\n",
       " 'https://codeup.com/workshops/virtual/learn-to-code-html-css-on-4-30/',\n",
       " 'https://codeup.com/workshops/virtual/learn-to-code-python-workshop-on-4-16/']"
      ]
     },
     "execution_count": 12,
     "metadata": {},
     "output_type": "execute_result"
    }
   ],
   "source": [
    "links = [link['href'] for link in soup.select('h2 a[href]')]\n",
    "links"
   ]
  },
  {
   "cell_type": "code",
   "execution_count": 13,
   "id": "c274e70c",
   "metadata": {},
   "outputs": [],
   "source": [
    "url = links[0]\n",
    "response = get(url, headers=headers)\n",
    "soup = BeautifulSoup(response.text)"
   ]
  },
  {
   "cell_type": "code",
   "execution_count": 14,
   "id": "699e7aa5",
   "metadata": {},
   "outputs": [
    {
     "data": {
      "text/plain": [
       "'What Jobs Can You Get After a Coding Bootcamp? Part 2: Cloud Administration'"
      ]
     },
     "execution_count": 14,
     "metadata": {},
     "output_type": "execute_result"
    }
   ],
   "source": [
    "soup.find('h1', class_='entry-title').text"
   ]
  },
  {
   "cell_type": "code",
   "execution_count": 15,
   "id": "b0f891ff",
   "metadata": {},
   "outputs": [
    {
     "data": {
      "text/plain": [
       "'Have you been considering a career in Cloud Administration, but have no idea what your job title or potential salary could be? Continue reading below to find out!\\nIn this mini-series, we will take each of our programs here at Codeup: Data Science, Web Development, and Cloud Administration, and outline respectively potential job titles, as well as entry-level salaries.*\\xa0Let’s discuss Cloud Administration.\\nProgram Overview\\nAt Codeup, we offer a 15-week Cloud Administration program, which was derived from our previous two programs: Systems Engineering and Cyber Cloud. We combined the best of both and blended hands-on practical knowledge with skilled instructors to create the Cloud Administration program.\\nUpon completing this program, you’ll have the opportunity to take on two exams for certifications: Amazon Web Services (AWS) Cloud Practitioner and AWS Solutions Architect Associate.\\xa0\\nPotential Jobs\\nAccording to A Cloud Guru, with an AWS Certification you’ll be equipped with the knowledge and experience to secure a job as the following:\\n1. Cloud Architect\\nAs a Cloud Architect, you will double as an IT specialist responsible for your organization’s cloud infrastructure. This includes system monitoring, computing strategy, planning, building and deployment. An entry-level Cloud Architect can make an estimated $93,892 annually according to Glassdoor.\\xa0\\n2. Cloud Developer\\nA Cloud Developer’s main duties align with a software developer’s. The differentiating factor is a Cloud Developer operates virtually with cloud computing technology. This may include the design, analysis and maintenance of a company’s cloud infrastructure. An entry-level Cloud Developer can make an estimated $89,652 annually according to Glassdoor.\\xa0\\n3. Cloud Systems Administrator\\nA Cloud Systems Administrator can be expected to provide insight on cloud systems, specifically working with IT to provide assistance and resolve operational issues. An entry-level Cloud Systems Administrator can make an estimated $64,805 annually according to Glassdoor.\\nHonorable Mention\\nA few additional roles to consider with AWS Certification include:\\xa0\\n\\nCloud DevOps Engineer- Estimated Entry-Level Salary $88,563\\nCloud Security Engineer- Estimated Entry-Level Salary $85,111\\nCloud Data Architect- Estimated Entry-Level Salary $91,598\\nCloud Consultant- Estimated Entry-Level Salary $72,474\\n\\nInterested in the other parts of this mini-series? Check them out below!\\n\\nPart 1: Data Science\\nPart 3: Web Development (Coming Soon!)\\xa0\\n\\n*Disclaimer: All information presented in this article is by no means guaranteed by completing a Codeup program. Salaries and duties vary based on factors such as company, location, and experience. These salaries are estimates based on San Antonio, TX data, and these duties are general and may not be exact for every position.'"
      ]
     },
     "execution_count": 15,
     "metadata": {},
     "output_type": "execute_result"
    }
   ],
   "source": [
    "soup.find('div', class_='entry-content').text.strip()"
   ]
  },
  {
   "cell_type": "code",
   "execution_count": 16,
   "id": "1529e9d8",
   "metadata": {},
   "outputs": [],
   "source": [
    "url = 'https://codeup.com/blog/'\n",
    "headers = {'User-Agent': 'Codeup Data Science'}\n",
    "response = get(url, headers=headers)\n",
    "\n",
    "soup = BeautifulSoup(response.content, 'html.parser')\n",
    "\n",
    "links = [link['href'] for link in soup.select('h2 a[href]')]\n",
    "\n",
    "articles = []\n",
    "\n",
    "for url in links:\n",
    "    \n",
    "    url_response = get(url, headers=headers)\n",
    "    soup = BeautifulSoup(url_response.text)\n",
    "    \n",
    "    title = soup.find('h1', class_='entry-title').text\n",
    "    content = soup.find('div', class_='entry-content').text.strip()\n",
    "    \n",
    "    article_dict = {\n",
    "        'title': title,\n",
    "        'content': content\n",
    "    }\n",
    "    \n",
    "    articles.append(article_dict)"
   ]
  },
  {
   "cell_type": "code",
   "execution_count": 17,
   "id": "5d5bd000",
   "metadata": {},
   "outputs": [
    {
     "data": {
      "text/plain": [
       "[{'title': 'What Jobs Can You Get After a Coding Bootcamp? Part 2: Cloud Administration',\n",
       "  'content': 'Have you been considering a career in Cloud Administration, but have no idea what your job title or potential salary could be? Continue reading below to find out!\\nIn this mini-series, we will take each of our programs here at Codeup: Data Science, Web Development, and Cloud Administration, and outline respectively potential job titles, as well as entry-level salaries.*\\xa0Let’s discuss Cloud Administration.\\nProgram Overview\\nAt Codeup, we offer a 15-week Cloud Administration program, which was derived from our previous two programs: Systems Engineering and Cyber Cloud. We combined the best of both and blended hands-on practical knowledge with skilled instructors to create the Cloud Administration program.\\nUpon completing this program, you’ll have the opportunity to take on two exams for certifications: Amazon Web Services (AWS) Cloud Practitioner and AWS Solutions Architect Associate.\\xa0\\nPotential Jobs\\nAccording to A Cloud Guru, with an AWS Certification you’ll be equipped with the knowledge and experience to secure a job as the following:\\n1. Cloud Architect\\nAs a Cloud Architect, you will double as an IT specialist responsible for your organization’s cloud infrastructure. This includes system monitoring, computing strategy, planning, building and deployment. An entry-level Cloud Architect can make an estimated $93,892 annually according to Glassdoor.\\xa0\\n2. Cloud Developer\\nA Cloud Developer’s main duties align with a software developer’s. The differentiating factor is a Cloud Developer operates virtually with cloud computing technology. This may include the design, analysis and maintenance of a company’s cloud infrastructure. An entry-level Cloud Developer can make an estimated $89,652 annually according to Glassdoor.\\xa0\\n3. Cloud Systems Administrator\\nA Cloud Systems Administrator can be expected to provide insight on cloud systems, specifically working with IT to provide assistance and resolve operational issues. An entry-level Cloud Systems Administrator can make an estimated $64,805 annually according to Glassdoor.\\nHonorable Mention\\nA few additional roles to consider with AWS Certification include:\\xa0\\n\\nCloud DevOps Engineer- Estimated Entry-Level Salary $88,563\\nCloud Security Engineer- Estimated Entry-Level Salary $85,111\\nCloud Data Architect- Estimated Entry-Level Salary $91,598\\nCloud Consultant- Estimated Entry-Level Salary $72,474\\n\\nInterested in the other parts of this mini-series? Check them out below!\\n\\nPart 1: Data Science\\nPart 3: Web Development (Coming Soon!)\\xa0\\n\\n*Disclaimer: All information presented in this article is by no means guaranteed by completing a Codeup program. Salaries and duties vary based on factors such as company, location, and experience. These salaries are estimates based on San Antonio, TX data, and these duties are general and may not be exact for every position.'},\n",
       " {'title': 'What Jobs Can You Get After a Coding Bootcamp? Part 1: Data Science',\n",
       "  'content': 'If you are interested in embarking on a career in tech, you’re probably wondering what your new job title could be, and even what your salary might look like.*\\xa0In this mini-series, we will take each of our programs here at Codeup: Data Science, Web Development, and Cloud Administration, and outline respectively potential job titles, as well as entry-level salaries.\\xa0Today we will be diving into our Data Science program, with four potential job titles you could take on!\\nProgram Overview\\xa0\\nDuring this 20-week program, you will have the opportunity to take your career to new heights with data science being one of the most needed jobs in tech. You’ll gather data, then clean it, explore it for trends, and apply machine learning models to make predictions.\\nUpon completing this program, you will know how to turn insights into actionable recommendations. You’ll be a huge asset to any company, having all the technical skills to become a data scientist with projects upon projects of experience under your belt.\\xa0\\n1. Data Scientist\\xa0\\nEssentially, a Data Scientist is responsible for analyzing how a business performs to ensure the business stays competitive and relevant. They review the data for deeper meaning and examine it for patterns in an effort to create solutions to business problems. According to Zip Recruiter, the average entry-level salary for a Data Scientist in Texas is $60,677.\\n2. Data Analyst\\nA Data Analyst finds ways to solve a business’ problems through raw data analysis. They are then responsible for sharing this information with management and stakeholders. According to Indeed, the average entry-level salary for a Data Analyst is $60,332.\\n3. Machine Learning Engineer\\xa0\\nA Machine Learning (ML) Engineer is usually on a Data Science team. They are responsible for artificial intelligence, and its functions as well as making predictions on other machine learning capabilities. They will create ML prototypes and models, then test and retrain where necessary. According to Salary.com, the average entry-level salary for a ML Engineer is $115,795.\\n4. Business Intelligence Analyst\\xa0\\nA Business Intelligence Analyst, also known as a BI Analyst is responsible for understanding computer programming languages. Their primary goal is to give accurate insight to decision-makers regarding the market, productivity, competition, and customer responses. According to Payscale, the average entry-level salary for a BI Analyst is $58,627.\\nWe understand changing careers can be scary. If you chose Codeup, we will make sure you are plenty prepared to not only take on one of these roles but succeed in it.\\xa0\\nThis program gives you more than a textbook and a bank of pre-recorded lectures. You get hands-on instruction from industry experts, along with the power to change your life.\\xa0\\nIf you’re ready, apply today and let’s turn your dreams into reality and get your seat secured in our next Data Science cohort.\\xa0\\n\\xa0\\n*Disclaimer: All information presented in this article is by no means guaranteed by completing a Codeup program. Salaries and duties vary based on factors such as company, location, and experience. These salaries are estimates based on San Antonio, TX data, and these duties are general and may not be exact for every position.'},\n",
       " {'title': 'Is Our Cloud Administration Program Right for You?',\n",
       "  'content': 'Changing careers can be scary. The first thing you may be asking yourself is, “where do I begin?” If you are looking into a career in tech, but coding or statistics aren’t your thing, our brand new Cloud Administration program might be just for you!\\nWhat Exactly is Cloud Administration?\\nThe future is in the cloud! As the new way of doing business, all kinds of companies need to build or interact with cloud products. These aren’t just high-tech solutions – they’re the core of everyday products like cloud-based gaming from Xbox, collaborative work tools from Google Drive, and even music streaming services from Spotify!\\xa0A Cloud Administrator works with software developers to design, build, maintain, and optimize a cloud architecture to run software applications.\\nWhat Will You Learn?\\nJust like our Data Science and Web Development programs, the Cloud Administration program is considered a career accelerator. Unlike a traditional 4 year degree, you can complete our program in just 15 weeks! You will receive hands-on training in:\\n\\nNetworking fundamentals\\nLinux Operating System\\nWindows Operating System\\nCloud and Computer Security\\nAmazon Web Services (AWS Cloud)\\n\\nYou’ll even earn two industry-recognized certifications as an AWS Cloud Practitioner and AWS Solutions Architect Associate, fully included in your tuition. You’ll learn how each technology works together, and how they are applied to real projects by starting simple, then progressively getting more complex as you add more tools to your toolbox. We’ll teach you to build infrastructure that enables software and data science products, manage cloud deployments, and optimize for cloud performance.\\xa0\\nAs for instruction, we are dedicated to giving you the best. Your instructors are speaking from real industry experience, and are invested in every student’s success. They’re essentially your personal mentors providing on-the-ground support, making themselves accessible to you when you need them.\\xa0\\nYour Success\\nNot only will you be equipped with in-demand cloud skills, but you’ll also get professional development along the way, including help polishing your resume and LinkedIn, as well as access to our employer network. This program, with the support of our career coaches and placement team, can help you become a:\\xa0\\n\\nCloud Administrator\\nCloud Architect\\nCloud Engineer\\nCloud Network Engineer\\nCloud Security Engineer\\xa0\\n\\nYou’re not stuck in one lane when you come to Codeup. With our instructors, coaches, and placement team you can take what you learn and run with it. Cloud technology is improving every single day and this course can ensure you are at the forefront of helping build and maintain that technology.\\xa0\\nCodeup Payment Options\\nFinancing your career transition can be a bit stressful, but we never want it to stop you from changing your career and applying. We have a dedicated Financial Aid and Enrollment team to walk you through every possible option to pay for your tuition here at Codeup. Whether you are using your VA benefits, grants, loans, scholarships, or self-paying, our team will work with you to ensure you receive all forms of financial aid for which you qualify. You can change your career regardless of your financial situation.\\nWant more information on our Cloud Administration program? Check our student reviews, and our blog on 5 Reasons We Think You Should Attend the Cloud Administration program. You can do more than dream of this life-changing career – you can LIVE IT!. Our application process is the first step to beginning your journey in Cloud Administration today!'},\n",
       " {'title': '5 Reasons To Attend Our New Cloud Administration Program',\n",
       "  'content': 'Come Work In The Cloud\\nWhen your Monday rolls around, do you start to get a sense of dread? That might be a sign to break up with your current job and learn something new.\\xa0At Codeup, we don’t want you to keep your head in the clouds while working a job you can’t stand. You should learn all about the cloud and cloud technology!\\xa0As we charge forward into 2022, we recently announced our brand new Cloud Administration Program.\\xa0\\nThis is a 15-week career accelerator that gets you hands-on experience with:\\n\\nNetworking\\nLinux Operating System\\xa0\\nWindows Operating System\\xa0\\nSecurity\\xa0\\nAmazon Web Services (AWS) Cloud Technology\\n\\nYou’ll earn two industry-recognized certifications as an AWS Cloud Practitioner and AWS Solutions Architect Associate. Both are included as part of your tuition. You will learn how to build infrastructure that enables software and data science products, manage cloud deployments, and optimize for cloud performance.\\xa0\\nHere are 5 reasons why we think you should attend our Cloud Administration program:\\xa0\\n\\xa0\\n1.) The Campus\\xa0\\nLocated on Rackspace property, our Castle campus has everything you need.\\xa0Tabletop games to play with classmates on break? We got foosball and ping pong!\\xa0Need a drink to quench your thirst? We have complimentary soda, water, and tea.\\xa0\\nThere is also lots of seating across the campus for you to study, have lunch, or even meet with classmates.\\xa0\\nParking is free since we are located on Rackspace’s property. You have the option to park about 100 ft away from our building, or you can park on the underground level to save your car from the heat if you attend during the summer months.\\xa0\\nThere is also plenty of food options within driving distance of campus. Fast food options include Mcdonald’s, Panda Express, and Bill Miller’s BBQ. For more sit-down restaurant options, you can visit Applebee’s, Buffalo Wild Wings, or Olive Garden. If you want to bring your lunch we have microwaves and refrigerators to enjoy your lunch on campus.\\xa0\\n\\xa0\\n2.) Time and Money Spent\\xa0\\nIn just 15 weeks you will be on your way to a new career that’s in high demand! That means you won’t have to wait 2 – 4 years like other traditional degree plans to get started in your new career.\\xa0\\nIs the cost of our program a concern? We totally understand if it is. Our Cloud Administration program is also the most affordable option of our three programs at Codeup if you’re looking to save the most money. It’s also more affordable than a traditional degree.\\xa0\\nAt Codeup we have a dedicated team of Financial Aid and Enrollment managers who will work with you one on one to ensure you have everything you need to pay for your time at Codeup that makes sense for your individual situation.\\xa0\\nWe have grants, scholarships, and student loans for those who qualify. If you’re a Veteran or a dependant of a Veteran you might have GI Bill benefits for use at Codeup. We just launched an exclusive scholarship with Climb Credit that you can apply for here.\\xa0\\nLastly, you can always go through your own financial institution to see what options are available to pay for Codeup.\\xa0\\nCheck out a walkthrough of our financial aid options here.\\xa0\\n\\xa0\\n3.) Salary & Benefits\\xa0\\nAlmost everyone changing careers during the “Great Resignation” is doing it for better pay and better benefits.\\xa0\\nWhat if I told you that any career you obtain through our Cloud Administration program offered you both a better salary and better benefits?\\xa0\\nAccording to Indeed.com the average salary for a Cloud Engineer right now is $118,712 in Texas (which is similar to the National average). This mirrors a Glassdoor Median Base salary of $118,999. Glassdoor also notes a job satisfaction rating of 4 out of 5 and over 10K open roles under the title Cloud Engineer.\\xa0\\nAre you guaranteed a salary like that after graduation? Not necessarily since this was an average salary. However, what that means is you have the potential to get to that level of salary at some point in your new career.\\nYour new skill sets could land you at a larger company like Accenture, EY, or even USAA. On the other hand, you could end up at a small company like a startup or SaaS (software as a service) company.\\xa0\\nBoth of those options will typically give you things like a great health care plan, generous amounts of time off, and additional perks like continuing education and gym discounts. Startups might be a little more unique in their offerings like remote work options, paying for new office equipment, and even potentially paying for an annual company retreat if the company works remotely.\\xa0\\n\\xa0\\n4.) Job Security\\nAccording to IT senior managers in a recent Robert Half survey, cloud expertise is the topmost in-demand skill set. This means cloud experts are in high demand and will continue to be as more companies adopt cloud infrastructures. The curriculum you go through in this program won’t stick you to just one lane. Coming out of the Cloud Administration program you could land a job as a:\\xa0\\n\\nCloud Engineer\\nCloud Network Engineer\\xa0\\nCloud Security Engineer\\xa0\\nCloud Architect\\xa0\\nCloud Administrator\\xa0\\n\\nHaving this many career options to choose from makes you a valuable and in-demand candidate for any tech company big or small. At Codeup, we have an employer-influenced curriculum. So once you graduate, you are equipped with the latest skills and knowledge today’s employers are looking for.\\xa0\\n\\xa0\\n5.) Our Instructors Are Next Level\\xa0\\nOur instructors genuinely care about your success. They lecture and take questions in real-time. Instead of giving you the answer, they will guide you in the right direction until you understand it yourself. They are all responsive and engaging, with a commitment to your success and a mission of empowering life change.\\xa0\\nAt other boot camps, you won’t find the same quality of instructors with industry experience, subject matter expertise, and live interactive lectures and lab. Even at the college level, professors often don’t provide individualized attention, hands-on learning, or accountability. Our instructors make a difference in your learning journey.\\xa0\\nIf having awesome instructors wasn’t enough, we also have a dedicated Student Experience team. This team is designed to work in collaboration with our instructors to ensure your success. Need a one-on-one session with your instructor? They can help with that. Need help just managing your time better? They can help with that too! These are passionate education professionals who want to empower you to get to that finish line we call graduation!\\xa0\\nRead more about why you need the best coding Bootcamp instructors here.\\xa0\\n\\xa0\\nWrapping Up\\nAs we mentioned, as more companies adopt cloud technologies the demand for cloud experts will only continue to grow. Take this as a sign to launch your career in tech and attend our brand new Cloud Administration program today.\\xa0\\nOur next class starts June 16th so don’t wait to get started and fill out this form here for our admissions team to get in touch with you. You can beat the heat this summer, learn new skills, and launch your career in the cloud! We can’t wait to hear from you!'},\n",
       " {'title': 'What Jobs Can You Get After a Coding Bootcamp? Part 2: Cloud Administration',\n",
       "  'content': 'Have you been considering a career in Cloud Administration, but have no idea what your job title or potential salary could be? Continue reading below to find out!\\nIn this mini-series, we will take each of our programs here at Codeup: Data Science, Web Development, and Cloud Administration, and outline respectively potential job titles, as well as entry-level salaries.*\\xa0Let’s discuss Cloud Administration.\\nProgram Overview\\nAt Codeup, we offer a 15-week Cloud Administration program, which was derived from our previous two programs: Systems Engineering and Cyber Cloud. We combined the best of both and blended hands-on practical knowledge with skilled instructors to create the Cloud Administration program.\\nUpon completing this program, you’ll have the opportunity to take on two exams for certifications: Amazon Web Services (AWS) Cloud Practitioner and AWS Solutions Architect Associate.\\xa0\\nPotential Jobs\\nAccording to A Cloud Guru, with an AWS Certification you’ll be equipped with the knowledge and experience to secure a job as the following:\\n1. Cloud Architect\\nAs a Cloud Architect, you will double as an IT specialist responsible for your organization’s cloud infrastructure. This includes system monitoring, computing strategy, planning, building and deployment. An entry-level Cloud Architect can make an estimated $93,892 annually according to Glassdoor.\\xa0\\n2. Cloud Developer\\nA Cloud Developer’s main duties align with a software developer’s. The differentiating factor is a Cloud Developer operates virtually with cloud computing technology. This may include the design, analysis and maintenance of a company’s cloud infrastructure. An entry-level Cloud Developer can make an estimated $89,652 annually according to Glassdoor.\\xa0\\n3. Cloud Systems Administrator\\nA Cloud Systems Administrator can be expected to provide insight on cloud systems, specifically working with IT to provide assistance and resolve operational issues. An entry-level Cloud Systems Administrator can make an estimated $64,805 annually according to Glassdoor.\\nHonorable Mention\\nA few additional roles to consider with AWS Certification include:\\xa0\\n\\nCloud DevOps Engineer- Estimated Entry-Level Salary $88,563\\nCloud Security Engineer- Estimated Entry-Level Salary $85,111\\nCloud Data Architect- Estimated Entry-Level Salary $91,598\\nCloud Consultant- Estimated Entry-Level Salary $72,474\\n\\nInterested in the other parts of this mini-series? Check them out below!\\n\\nPart 1: Data Science\\nPart 3: Web Development (Coming Soon!)\\xa0\\n\\n*Disclaimer: All information presented in this article is by no means guaranteed by completing a Codeup program. Salaries and duties vary based on factors such as company, location, and experience. These salaries are estimates based on San Antonio, TX data, and these duties are general and may not be exact for every position.'}]"
      ]
     },
     "execution_count": 17,
     "metadata": {},
     "output_type": "execute_result"
    }
   ],
   "source": [
    "articles[0:5]"
   ]
  },
  {
   "cell_type": "code",
   "execution_count": 18,
   "id": "fdee8c32",
   "metadata": {},
   "outputs": [
    {
     "data": {
      "text/html": [
       "<div>\n",
       "<style scoped>\n",
       "    .dataframe tbody tr th:only-of-type {\n",
       "        vertical-align: middle;\n",
       "    }\n",
       "\n",
       "    .dataframe tbody tr th {\n",
       "        vertical-align: top;\n",
       "    }\n",
       "\n",
       "    .dataframe thead th {\n",
       "        text-align: right;\n",
       "    }\n",
       "</style>\n",
       "<table border=\"1\" class=\"dataframe\">\n",
       "  <thead>\n",
       "    <tr style=\"text-align: right;\">\n",
       "      <th></th>\n",
       "      <th>title</th>\n",
       "      <th>content</th>\n",
       "    </tr>\n",
       "  </thead>\n",
       "  <tbody>\n",
       "    <tr>\n",
       "      <th>0</th>\n",
       "      <td>What Jobs Can You Get After a Coding Bootcamp?...</td>\n",
       "      <td>Have you been considering a career in Cloud Ad...</td>\n",
       "    </tr>\n",
       "    <tr>\n",
       "      <th>1</th>\n",
       "      <td>What Jobs Can You Get After a Coding Bootcamp?...</td>\n",
       "      <td>If you are interested in embarking on a career...</td>\n",
       "    </tr>\n",
       "    <tr>\n",
       "      <th>2</th>\n",
       "      <td>Is Our Cloud Administration Program Right for ...</td>\n",
       "      <td>Changing careers can be scary. The first thing...</td>\n",
       "    </tr>\n",
       "    <tr>\n",
       "      <th>3</th>\n",
       "      <td>5 Reasons To Attend Our New Cloud Administrati...</td>\n",
       "      <td>Come Work In The Cloud\\nWhen your Monday rolls...</td>\n",
       "    </tr>\n",
       "    <tr>\n",
       "      <th>4</th>\n",
       "      <td>What Jobs Can You Get After a Coding Bootcamp?...</td>\n",
       "      <td>Have you been considering a career in Cloud Ad...</td>\n",
       "    </tr>\n",
       "    <tr>\n",
       "      <th>5</th>\n",
       "      <td>What Jobs Can You Get After a Coding Bootcamp?...</td>\n",
       "      <td>If you are interested in embarking on a career...</td>\n",
       "    </tr>\n",
       "    <tr>\n",
       "      <th>6</th>\n",
       "      <td>In-Person Workshop: Learn to Code – JavaScript...</td>\n",
       "      <td>Join us for our live in-person JavaScript cras...</td>\n",
       "    </tr>\n",
       "    <tr>\n",
       "      <th>7</th>\n",
       "      <td>In-Person Workshop: Learn to Code – Python on ...</td>\n",
       "      <td>According to LinkedIn, the “#1 Most Promising ...</td>\n",
       "    </tr>\n",
       "    <tr>\n",
       "      <th>8</th>\n",
       "      <td>Free JavaScript Workshop at Codeup Dallas on 6/28</td>\n",
       "      <td>Event Info: \\nLocation – Codeup Dallas\\nTime –...</td>\n",
       "    </tr>\n",
       "    <tr>\n",
       "      <th>9</th>\n",
       "      <td>Is Our Cloud Administration Program Right for ...</td>\n",
       "      <td>Changing careers can be scary. The first thing...</td>\n",
       "    </tr>\n",
       "    <tr>\n",
       "      <th>10</th>\n",
       "      <td>PRIDE in Tech Panel</td>\n",
       "      <td>In celebration of PRIDE month, join our Codeup...</td>\n",
       "    </tr>\n",
       "    <tr>\n",
       "      <th>11</th>\n",
       "      <td>Inclusion at Codeup During Pride Month (and Al...</td>\n",
       "      <td>Happy Pride Month! Pride Month is a dedicated ...</td>\n",
       "    </tr>\n",
       "    <tr>\n",
       "      <th>12</th>\n",
       "      <td>Mental Health First Aid Training</td>\n",
       "      <td>As a student of Codeup, going through a massiv...</td>\n",
       "    </tr>\n",
       "    <tr>\n",
       "      <th>13</th>\n",
       "      <td>Codeup Dallas: How to Succeed at a Coding Boot...</td>\n",
       "      <td>This event is the perfect opportunity for peop...</td>\n",
       "    </tr>\n",
       "    <tr>\n",
       "      <th>14</th>\n",
       "      <td>5 Reasons To Attend Our New Cloud Administrati...</td>\n",
       "      <td>Come Work In The Cloud\\nWhen your Monday rolls...</td>\n",
       "    </tr>\n",
       "    <tr>\n",
       "      <th>15</th>\n",
       "      <td>Learn to Code: Python on 5/21</td>\n",
       "      <td>According to LinkedIn, the “#1 Most Promising ...</td>\n",
       "    </tr>\n",
       "    <tr>\n",
       "      <th>16</th>\n",
       "      <td>Codeup Dallas Joins Career Day</td>\n",
       "      <td>Last week our Codeup Dallas team participated ...</td>\n",
       "    </tr>\n",
       "    <tr>\n",
       "      <th>17</th>\n",
       "      <td>Project Quest Info Session: IT Jumpstart on Ma...</td>\n",
       "      <td>Join our grant partner Project Quest as they d...</td>\n",
       "    </tr>\n",
       "    <tr>\n",
       "      <th>18</th>\n",
       "      <td>From Bootcamp to Bootcamp | A Military Appreci...</td>\n",
       "      <td>In honor of Military Appreciation Month, join ...</td>\n",
       "    </tr>\n",
       "    <tr>\n",
       "      <th>19</th>\n",
       "      <td>Our Acquisition of the Rackspace Cloud Academy...</td>\n",
       "      <td>Just about a year ago on April 16th, 2021 we a...</td>\n",
       "    </tr>\n",
       "    <tr>\n",
       "      <th>20</th>\n",
       "      <td>Learn to Code: HTML &amp; CSS on 4/30</td>\n",
       "      <td>HTML &amp; CSS are the design building blocks of a...</td>\n",
       "    </tr>\n",
       "    <tr>\n",
       "      <th>21</th>\n",
       "      <td>Learn to Code: Python Workshop on 4/23</td>\n",
       "      <td>According to LinkedIn, the “#1 Most Promising ...</td>\n",
       "    </tr>\n",
       "  </tbody>\n",
       "</table>\n",
       "</div>"
      ],
      "text/plain": [
       "                                                title  \\\n",
       "0   What Jobs Can You Get After a Coding Bootcamp?...   \n",
       "1   What Jobs Can You Get After a Coding Bootcamp?...   \n",
       "2   Is Our Cloud Administration Program Right for ...   \n",
       "3   5 Reasons To Attend Our New Cloud Administrati...   \n",
       "4   What Jobs Can You Get After a Coding Bootcamp?...   \n",
       "5   What Jobs Can You Get After a Coding Bootcamp?...   \n",
       "6   In-Person Workshop: Learn to Code – JavaScript...   \n",
       "7   In-Person Workshop: Learn to Code – Python on ...   \n",
       "8   Free JavaScript Workshop at Codeup Dallas on 6/28   \n",
       "9   Is Our Cloud Administration Program Right for ...   \n",
       "10                                PRIDE in Tech Panel   \n",
       "11  Inclusion at Codeup During Pride Month (and Al...   \n",
       "12                   Mental Health First Aid Training   \n",
       "13  Codeup Dallas: How to Succeed at a Coding Boot...   \n",
       "14  5 Reasons To Attend Our New Cloud Administrati...   \n",
       "15                      Learn to Code: Python on 5/21   \n",
       "16                     Codeup Dallas Joins Career Day   \n",
       "17  Project Quest Info Session: IT Jumpstart on Ma...   \n",
       "18  From Bootcamp to Bootcamp | A Military Appreci...   \n",
       "19  Our Acquisition of the Rackspace Cloud Academy...   \n",
       "20                  Learn to Code: HTML & CSS on 4/30   \n",
       "21             Learn to Code: Python Workshop on 4/23   \n",
       "\n",
       "                                              content  \n",
       "0   Have you been considering a career in Cloud Ad...  \n",
       "1   If you are interested in embarking on a career...  \n",
       "2   Changing careers can be scary. The first thing...  \n",
       "3   Come Work In The Cloud\\nWhen your Monday rolls...  \n",
       "4   Have you been considering a career in Cloud Ad...  \n",
       "5   If you are interested in embarking on a career...  \n",
       "6   Join us for our live in-person JavaScript cras...  \n",
       "7   According to LinkedIn, the “#1 Most Promising ...  \n",
       "8   Event Info: \\nLocation – Codeup Dallas\\nTime –...  \n",
       "9   Changing careers can be scary. The first thing...  \n",
       "10  In celebration of PRIDE month, join our Codeup...  \n",
       "11  Happy Pride Month! Pride Month is a dedicated ...  \n",
       "12  As a student of Codeup, going through a massiv...  \n",
       "13  This event is the perfect opportunity for peop...  \n",
       "14  Come Work In The Cloud\\nWhen your Monday rolls...  \n",
       "15  According to LinkedIn, the “#1 Most Promising ...  \n",
       "16  Last week our Codeup Dallas team participated ...  \n",
       "17  Join our grant partner Project Quest as they d...  \n",
       "18  In honor of Military Appreciation Month, join ...  \n",
       "19  Just about a year ago on April 16th, 2021 we a...  \n",
       "20  HTML & CSS are the design building blocks of a...  \n",
       "21  According to LinkedIn, the “#1 Most Promising ...  "
      ]
     },
     "execution_count": 18,
     "metadata": {},
     "output_type": "execute_result"
    }
   ],
   "source": [
    "blog_article_df = pd.DataFrame(articles)\n",
    "blog_article_df"
   ]
  },
  {
   "cell_type": "code",
   "execution_count": 19,
   "id": "a0e4d8a8",
   "metadata": {},
   "outputs": [],
   "source": [
    "blog_article_df.to_csv('blog_articles.csv', index=False)"
   ]
  },
  {
   "cell_type": "code",
   "execution_count": 20,
   "id": "1186e61e",
   "metadata": {},
   "outputs": [],
   "source": [
    "url = 'https://inshorts.com/en/read'\n",
    "response = get(url)\n",
    "soup = BeautifulSoup(response.content, 'html.parser')"
   ]
  },
  {
   "cell_type": "code",
   "execution_count": 21,
   "id": "5e7dfe93",
   "metadata": {},
   "outputs": [
    {
     "data": {
      "text/plain": [
       "'Veteran Bollywood singer Bhupinder Singh passes away at 82'"
      ]
     },
     "execution_count": 21,
     "metadata": {},
     "output_type": "execute_result"
    }
   ],
   "source": [
    "soup.find_all('span', itemprop='headline')[0].text"
   ]
  },
  {
   "cell_type": "code",
   "execution_count": 22,
   "id": "68e9c3c6",
   "metadata": {},
   "outputs": [
    {
     "data": {
      "text/plain": [
       "\"Veteran Bollywood playback and ghazal singer Bhupinder Singh has passed away of a colon ailment at 82 in Mumbai. Singh is known for songs like 'Naam Gum Jayega', 'Kabhi Kisi Ko Mukammal Jahan Nahi Milta' and 'Hothon Pe Aisi Baat'. He's also been credited as a guitarist in famous Bollywood songs like 'Dum Maro Dum' and 'Mehbooba O Mehbooba'.\""
      ]
     },
     "execution_count": 22,
     "metadata": {},
     "output_type": "execute_result"
    }
   ],
   "source": [
    "soup.find_all('div', itemprop='articleBody')[0].text"
   ]
  },
  {
   "cell_type": "code",
   "execution_count": 23,
   "id": "128cc6d5",
   "metadata": {},
   "outputs": [
    {
     "data": {
      "text/plain": [
       "['national',\n",
       " 'business',\n",
       " 'sports',\n",
       " 'world',\n",
       " 'politics',\n",
       " 'technology',\n",
       " 'startup',\n",
       " 'entertainment',\n",
       " 'miscellaneous',\n",
       " 'hatke',\n",
       " 'science',\n",
       " 'automobile']"
      ]
     },
     "execution_count": 23,
     "metadata": {},
     "output_type": "execute_result"
    }
   ],
   "source": [
    "categories = [li.text.lower() for li in soup.select('li')][1:]\n",
    "categories[0] = 'national'\n",
    "categories"
   ]
  },
  {
   "cell_type": "code",
   "execution_count": 24,
   "id": "8036fc7c",
   "metadata": {},
   "outputs": [],
   "source": [
    "categories = [li.text.lower() for li in soup.select('li')][1:]\n",
    "categories[0] = 'national'\n",
    "\n",
    "inshorts = []\n",
    "\n",
    "for category in categories:\n",
    "    \n",
    "    url = 'https://inshorts.com/en/read' + '/' + category\n",
    "    response = get(url)\n",
    "    soup = BeautifulSoup(response.content, 'html.parser')\n",
    "    \n",
    "    titles = [span.text for span in soup.find_all('span', itemprop='headline')]\n",
    "    contents = [div.text for div in soup.find_all('div', itemprop='articleBody')]\n",
    "    \n",
    "    for i in range(len(titles)):\n",
    "        \n",
    "        article = {\n",
    "            'title': titles[i],\n",
    "            'content': contents[i],\n",
    "            'category': category,\n",
    "        }\n",
    "        \n",
    "        inshorts.append(article)"
   ]
  },
  {
   "cell_type": "code",
   "execution_count": null,
   "id": "81d58611",
   "metadata": {},
   "outputs": [],
   "source": []
  }
 ],
 "metadata": {
  "kernelspec": {
   "display_name": "Python 3 (ipykernel)",
   "language": "python",
   "name": "python3"
  },
  "language_info": {
   "codemirror_mode": {
    "name": "ipython",
    "version": 3
   },
   "file_extension": ".py",
   "mimetype": "text/x-python",
   "name": "python",
   "nbconvert_exporter": "python",
   "pygments_lexer": "ipython3",
   "version": "3.9.7"
  }
 },
 "nbformat": 4,
 "nbformat_minor": 5
}
